{
 "cells": [
  {
   "cell_type": "markdown",
   "metadata": {},
   "source": [
    "# Testing the website table generation"
   ]
  },
  {
   "cell_type": "code",
   "execution_count": 1,
   "metadata": {},
   "outputs": [
    {
     "name": "stderr",
     "output_type": "stream",
     "text": [
      "/Users/ryanr/anaconda3/lib/python3.5/importlib/_bootstrap.py:222: RuntimeWarning: numpy.dtype size changed, may indicate binary incompatibility. Expected 96, got 88\n",
      "  return f(*args, **kwds)\n",
      "/Users/ryanr/anaconda3/lib/python3.5/importlib/_bootstrap.py:222: RuntimeWarning: numpy.dtype size changed, may indicate binary incompatibility. Expected 96, got 88\n",
      "  return f(*args, **kwds)\n"
     ]
    }
   ],
   "source": [
    "from glob import glob\n",
    "from webtools import *\n",
    "from datetime import datetime\n",
    "\n",
    "import pandas as pd\n",
    "import numpy as np"
   ]
  },
  {
   "cell_type": "code",
   "execution_count": 3,
   "metadata": {},
   "outputs": [],
   "source": [
    "direc = glob('/Users/ryanr/Desktop/c07/**/**/**/')\n",
    "direc = [ x for x in direc if \"Prob\" not in x ]\n",
    "direc = [ x for x in direc if \"Near\" not in x ]\n",
    "temp = glob('/Users/ryanr/Desktop/c07/**/**/**/**/')\n",
    "if len(direc) == 1:\n",
    "    direc = [direc]\n",
    "if len(temp) == 1:\n",
    "    temp = [temp]\n",
    "direc.append(temp)\n",
    "direc = [item for sublist in direc for item in sublist]"
   ]
  },
  {
   "cell_type": "code",
   "execution_count": null,
   "metadata": {},
   "outputs": [],
   "source": []
  },
  {
   "cell_type": "code",
   "execution_count": 82,
   "metadata": {},
   "outputs": [],
   "source": [
    "if 1 is int:\n",
    "    print(beep)"
   ]
  },
  {
   "cell_type": "code",
   "execution_count": 68,
   "metadata": {},
   "outputs": [
    {
     "data": {
      "text/plain": [
       "['/Users/ryanr/Desktop/c07/Long/Bright/Unknown/',\n",
       " '/Users/ryanr/Desktop/c07/Long/Bright/Near/IrS/',\n",
       " '/Users/ryanr/Desktop/c07/Long/Bright/Near/Simbad/',\n",
       " '/Users/ryanr/Desktop/c07/Long/Bright/Near/Unknown/',\n",
       " '/Users/ryanr/Desktop/c07/Long/Bright/Near/UvS/',\n",
       " '/Users/ryanr/Desktop/c07/Long/Faint/Near/Simbad/',\n",
       " '/Users/ryanr/Desktop/c07/Long/Faint/Near/Unknown/',\n",
       " '/Users/ryanr/Desktop/c07/Long/Faint/Near/UvS/',\n",
       " '/Users/ryanr/Desktop/c07/Long/Faint/Prob/IrS/',\n",
       " '/Users/ryanr/Desktop/c07/Long/Faint/Prob/Simbad/',\n",
       " '/Users/ryanr/Desktop/c07/Long/Faint/Prob/Unknown/',\n",
       " '/Users/ryanr/Desktop/c07/Long/Faint/Prob/UvS/']"
      ]
     },
     "execution_count": 68,
     "metadata": {},
     "output_type": "execute_result"
    }
   ],
   "source": [
    "for i in range(len(direc)):\n",
    "    "
   ]
  },
  {
   "cell_type": "markdown",
   "metadata": {},
   "source": [
    "Base working design"
   ]
  },
  {
   "cell_type": "code",
   "execution_count": 8,
   "metadata": {},
   "outputs": [
    {
     "name": "stdout",
     "output_type": "stream",
     "text": [
      "### Saving \n"
     ]
    }
   ],
   "source": [
    "infotable = htmltable(10,border=1,cellspacing=0,cellpadding=2,width='100px')\n",
    "cols2show = ['Figure', 'Video', 'EPIC ID', 'Event #', 'Module']\n",
    "\n",
    "defaultwebpagename = 'defaultpage_imagelist.html'\n",
    "webpage = webpageclass()\n",
    "webpage.loaddefaultpage(defaultwebpagename)\n",
    "infotable = htmltable(10,border=1,cellspacing=0,cellpadding=2,width='200px')\n",
    "\n",
    "infotable.startrow()\n",
    "infotable.addcol('Candidates',colspan=1,bold=1, color = 'black', bgcolor = 'grey',fontscale=\"+2\")\n",
    "infotable.endrow()\n",
    "infotable.startrow()\n",
    "for col in cols2show:\n",
    "    infotable.addcol(col,textalign='center',width=None,bold=1, color = 'white', bgcolor = 0.75)\n",
    "infotable.endrow()\n",
    "\n",
    "infotable.startrow()\n",
    "thumbnail = '/Users/ryanr/Documents/PhD/coding/Kepler/pipelines/203830112/thumbnail.png'\n",
    "realfig = '/Users/ryanr/Documents/PhD/coding/Kepler/pipelines/203830112/WZ_Sge_D_type.png'\n",
    "\n",
    "s = addlink2string(imagestring4web(thumbnail,width=None,height='100'),realfig)\n",
    "infotable.addcol(s)   \n",
    "test = '/Users/ryanr/Desktop/test2.gif'#'/Users/ryanr/Documents/PhD/coding/Kepler/K2/Figures/Long/Bright/Unknown/ktwo203830112_0.gif'#anaconda3/envs/py27/lib/python2.7/site-packages/imageio/resources/images/newtonscradle.gif'\n",
    "s = addlink2string(imagestring4web(test,width=None,height='100'),'/Users/ryanr/Desktop/ktwo200001049_7.mp4')\n",
    "infotable.addcol(s)\n",
    "infotable.addcol('203830112')\n",
    "infotable.addcol('1')\n",
    "\n",
    "infotable.endrow()\n",
    "\n",
    "\n",
    "webpage.substituteplaceholder('PLACEHOLDER_IMAGETABLE_PLACEHOLDER',infotable.gettable(sortable=True))\n",
    "webpage.substituteplaceholder('PLACEHOLDER_TITLE_PLACEHOLDER','K2:BS')\n",
    "  \n",
    "\n",
    "# replace any other placeholder\n",
    "\n",
    "# now save it.\n",
    "#webfilename = self.pagename(webbasename,pageID=pages.getentry(1,'pageID'))\n",
    "print('### Saving ')\n",
    "webpage.savepage('/Users/ryanr/Documents/PhD/coding/Kepler/Webpage/test.html')\n",
    "#del webpage"
   ]
  },
  {
   "cell_type": "markdown",
   "metadata": {},
   "source": [
    "loping"
   ]
  },
  {
   "cell_type": "code",
   "execution_count": 4,
   "metadata": {},
   "outputs": [],
   "source": []
  },
  {
   "cell_type": "code",
   "execution_count": 12,
   "metadata": {},
   "outputs": [],
   "source": [
    "today = datetime.now()\n",
    "update_date = str(today.date())"
   ]
  },
  {
   "cell_type": "code",
   "execution_count": 13,
   "metadata": {},
   "outputs": [
    {
     "data": {
      "text/plain": [
       "'2018-08-15'"
      ]
     },
     "execution_count": 13,
     "metadata": {},
     "output_type": "execute_result"
    }
   ],
   "source": [
    "update_date"
   ]
  },
  {
   "cell_type": "code",
   "execution_count": 1,
   "metadata": {},
   "outputs": [
    {
     "ename": "ImportError",
     "evalue": "No module named 'webtools'",
     "output_type": "error",
     "traceback": [
      "\u001b[0;31m---------------------------------------------------------------------------\u001b[0m",
      "\u001b[0;31mImportError\u001b[0m                               Traceback (most recent call last)",
      "\u001b[0;32m<ipython-input-1-a1ca69a6437e>\u001b[0m in \u001b[0;36m<module>\u001b[0;34m()\u001b[0m\n\u001b[1;32m      1\u001b[0m \u001b[0;32mfrom\u001b[0m \u001b[0mglob\u001b[0m \u001b[0;32mimport\u001b[0m \u001b[0mglob\u001b[0m\u001b[0;34m\u001b[0m\u001b[0m\n\u001b[0;32m----> 2\u001b[0;31m \u001b[0;32mfrom\u001b[0m \u001b[0mwebtools\u001b[0m \u001b[0;32mimport\u001b[0m \u001b[0;34m*\u001b[0m\u001b[0;34m\u001b[0m\u001b[0m\n\u001b[0m\u001b[1;32m      3\u001b[0m \u001b[0;32mfrom\u001b[0m \u001b[0mdatetime\u001b[0m \u001b[0;32mimport\u001b[0m \u001b[0mdatetime\u001b[0m\u001b[0;34m\u001b[0m\u001b[0m\n",
      "\u001b[0;31mImportError\u001b[0m: No module named 'webtools'"
     ]
    }
   ],
   "source": []
  },
  {
   "cell_type": "code",
   "execution_count": 32,
   "metadata": {},
   "outputs": [],
   "source": [
    "direc = glob('/Users/ryanr/Desktop/c111/**/**/') # removed one directory layer for this test\n",
    "direc = [ x for x in direc if \"Prob\" not in x ]\n",
    "direc = [ x for x in direc if \"Near\" not in x ]\n",
    "direc = [ x for x in direc if \"In\" not in x ]\n",
    "temp = glob('/Users/ryanr/Desktop/c111/**/**/**/') # removed one directory layer for this test\n",
    "if len(direc) == 1:\n",
    "    direc = [direc]\n",
    "if len(temp) == 1:\n",
    "    temp = [temp]\n",
    "direc.append(temp)\n",
    "direc = [item for sublist in direc for item in sublist]"
   ]
  },
  {
   "cell_type": "code",
   "execution_count": 33,
   "metadata": {},
   "outputs": [
    {
     "data": {
      "text/plain": [
       "['/Users/ryanr/Desktop/c111/Long/Bright/',\n",
       " '/Users/ryanr/Desktop/c111/Long/Bright/In/',\n",
       " '/Users/ryanr/Desktop/c111/Long/Bright/Near/',\n",
       " '/Users/ryanr/Desktop/c111/Long/Bright/Prob/',\n",
       " '/Users/ryanr/Desktop/c111/Long/Bright/Unknown/']"
      ]
     },
     "execution_count": 33,
     "metadata": {},
     "output_type": "execute_result"
    }
   ],
   "source": [
    "direc.dele"
   ]
  },
  {
   "cell_type": "code",
   "execution_count": 8,
   "metadata": {},
   "outputs": [],
   "source": [
    "files = glob(direc[1]+'/*')"
   ]
  },
  {
   "cell_type": "code",
   "execution_count": 9,
   "metadata": {},
   "outputs": [],
   "source": [
    "events = []\n",
    "for file in files:\n",
    "    if '-' in file:\n",
    "        events.append(file.split('-')[-1].split('.')[0])\n",
    "    else:\n",
    "        events.append(file.split('/')[-1].split('.')[0])\n",
    "events = list(set(events))\n",
    "\n",
    "for event in events:\n",
    "    event_pdf = glob(direc[1]+'/*'+event+'*.pdf')\n",
    "    event_TN = glob(direc[1]+'/*'+event+'*.png')\n",
    "    event_vid = glob(direc[1]+'/*'+event+'*.mp4')\n",
    "    event_test =glob(direc[1]+'/*'+event+'*.mpp')"
   ]
  },
  {
   "cell_type": "code",
   "execution_count": 10,
   "metadata": {},
   "outputs": [
    {
     "data": {
      "text/plain": [
       "'/Users/ryanr/Desktop/c111/Bright/In/IrS/*ktwo200127408_0.png'"
      ]
     },
     "execution_count": 10,
     "metadata": {},
     "output_type": "execute_result"
    }
   ],
   "source": [
    "direc[1]+'*'+event+'.png'"
   ]
  },
  {
   "cell_type": "code",
   "execution_count": 11,
   "metadata": {},
   "outputs": [
    {
     "data": {
      "text/plain": [
       "['/Users/ryanr/Desktop/c111/Bright/In/IrS/TN-ktwo200127408_0.png']"
      ]
     },
     "execution_count": 11,
     "metadata": {},
     "output_type": "execute_result"
    }
   ],
   "source": [
    "glob(direc[1]+'*'+event+'.png')"
   ]
  },
  {
   "cell_type": "code",
   "execution_count": 52,
   "metadata": {},
   "outputs": [
    {
     "data": {
      "text/plain": [
       "['ktwo223430002_0', 'ktwo223430002_0', 'ktwo223430002_0', 'ktwo223430002_0']"
      ]
     },
     "execution_count": 52,
     "metadata": {},
     "output_type": "execute_result"
    }
   ],
   "source": [
    "events"
   ]
  },
  {
   "cell_type": "code",
   "execution_count": 53,
   "metadata": {},
   "outputs": [
    {
     "data": {
      "text/plain": [
       "['ktwo223430002_0']"
      ]
     },
     "execution_count": 53,
     "metadata": {},
     "output_type": "execute_result"
    }
   ],
   "source": [
    "my_list = list(set(events))\n",
    "my_list"
   ]
  },
  {
   "cell_type": "code",
   "execution_count": 23,
   "metadata": {},
   "outputs": [
    {
     "name": "stdout",
     "output_type": "stream",
     "text": [
      "111/Bright/Prob/UvS/\n"
     ]
    }
   ],
   "source": [
    "c_split = path.split('c')[1]\n",
    "\n",
    "if len(c_split.split('/')) > 4:\n",
    "    savename = c_split.split('/')[1] + '_' +c_split.split('/')[2] + '_' +c_split.split('/')[3] +'.html'\n",
    "else:\n",
    "    savename = c_split.split('/')[1] + '_' +c_split.split('/')[2] +'.html'"
   ]
  },
  {
   "cell_type": "code",
   "execution_count": 31,
   "metadata": {},
   "outputs": [
    {
     "name": "stderr",
     "output_type": "stream",
     "text": [
      "/Users/ryanr/anaconda3/lib/python3.5/importlib/_bootstrap.py:222: RuntimeWarning: numpy.dtype size changed, may indicate binary incompatibility. Expected 96, got 88\n",
      "  return f(*args, **kwds)\n",
      "/Users/ryanr/anaconda3/lib/python3.5/importlib/_bootstrap.py:222: RuntimeWarning: numpy.dtype size changed, may indicate binary incompatibility. Expected 96, got 88\n",
      "  return f(*args, **kwds)\n"
     ]
    }
   ],
   "source": [
    "import pandas as pd\n",
    "import numpy as np"
   ]
  },
  {
   "cell_type": "code",
   "execution_count": 34,
   "metadata": {},
   "outputs": [],
   "source": [
    "data = pd.read_csv(Dire'/Events.csv')\n",
    "data = data.values\n",
    "\n",
    "row = np.where(data[:,1] == int(event.split('_')[0]))[0]\n",
    "if len(row) > 1:\n",
    "    row = row[0]\n",
    "channel = data[row,11]\n",
    "module = data[row,12]"
   ]
  },
  {
   "cell_type": "code",
   "execution_count": 36,
   "metadata": {},
   "outputs": [
    {
     "data": {
      "text/plain": [
       "(59, 15)"
      ]
     },
     "execution_count": 36,
     "metadata": {},
     "output_type": "execute_result"
    }
   ],
   "source": [
    "data.shape"
   ]
  },
  {
   "cell_type": "code",
   "execution_count": 97,
   "metadata": {},
   "outputs": [],
   "source": [
    "path = '/Users/ryanr/Documents/PhD/coding/Kepler/Webpage/'\n",
    "location = ['length/','brightness/','category/','sub_category/','events/']\n",
    "location = [path + s for s in location]"
   ]
  },
  {
   "cell_type": "code",
   "execution_count": 88,
   "metadata": {},
   "outputs": [
    {
     "data": {
      "text/plain": [
       "'/Users/ryanr/Documents/PhD/coding/Kepler/Webpage/events'"
      ]
     },
     "execution_count": 88,
     "metadata": {},
     "output_type": "execute_result"
    }
   ],
   "source": [
    "location[-1]"
   ]
  },
  {
   "cell_type": "markdown",
   "metadata": {},
   "source": [
    "Working loop page"
   ]
  },
  {
   "cell_type": "code",
   "execution_count": 98,
   "metadata": {},
   "outputs": [],
   "source": [
    "def Fill_subsection_links(Webpage, Location, Savename):\n",
    "    types = Savename.split('_')\n",
    "    \n",
    "    Webpage.substituteplaceholder('PLACEHOLDER_LENGTH',\n",
    "                                  addlink2string(types[0], Location[0] + types[0] + '.html'))\n",
    "    if len(types) > 1:\n",
    "        if len(types) > 3:\n",
    "            print('long')\n",
    "            Webpage.substituteplaceholder('PLACEHOLDER_BRIGHTNESS',\n",
    "                                      addlink2string(types[1], Location[1] + types[0] + '_' + types[1] + '.html'))\n",
    "            Webpage.substituteplaceholder('PLACEHOLDER_TYPE_ONE',\n",
    "                                      addlink2string(types[2], Location[2] + types[0] + '_' + types[1] + '_' + types[2] + '.html'))\n",
    "            Webpage.substituteplaceholder('PLACEHOLDER_TYPE_TWO',\n",
    "                                      addlink2string(types[3].split('.')[0], Location[3] + Savename))\n",
    "        else:\n",
    "            if len(types) == 3:\n",
    "                Webpage.substituteplaceholder('PLACEHOLDER_BRIGHTNESS',\n",
    "                                      addlink2string(types[1], Location[1] + types[0] + '_' + types[1] + '.html'))\n",
    "                Webpage.substituteplaceholder('PLACEHOLDER_TYPE_ONE',\n",
    "                                          addlink2string(types[2].split('.')[0], Location[2] + Savename))\n",
    "\n",
    "                Webpage.substituteplaceholder('PLACEHOLDER_TYPE_TWO','')\n",
    "            else:\n",
    "                print('vsmall')\n",
    "                Webpage.substituteplaceholder('PLACEHOLDER_BRIGHTNESS',\n",
    "                                      addlink2string(types[1].split('.')[0], Location[1] + types[0] + '_' + types[1]))\n",
    "                Webpage.substituteplaceholder('PLACEHOLDER_TYPE_ONE','')\n",
    "                Webpage.substituteplaceholder('PLACEHOLDER_TYPE_TWO','')\n",
    "    else:\n",
    "        print('xsmall')\n",
    "        Webpage.substituteplaceholder('PLACEHOLDER_BRIGHTNESS','')\n",
    "        Webpage.substituteplaceholder('PLACEHOLDER_TYPE_ONE','')\n",
    "        Webpage.substituteplaceholder('PLACEHOLDER_TYPE_TWO','')\n",
    "        \n",
    "    return Webpage\n",
    "\n",
    "def Reduce_string(string):\n",
    "    \"\"\"\n",
    "    Reduces the size of a html event string by one component.\n",
    "    \"\"\"\n",
    "    temp = string.split('_')\n",
    "    temp2=''\n",
    "    for i in range(len(temp)-1):\n",
    "        if i != (len(temp)-2):\n",
    "            temp2 += temp[i] + '_'\n",
    "        else:\n",
    "            temp2 += temp[i] + '.html'\n",
    "    return temp2\n",
    "\n",
    "def Make_candidate_webpage(Directory, Location):\n",
    "    \"\"\"\n",
    "    Gather all like events in a campaign and make a webpage.\n",
    "    \"\"\"\n",
    "    \n",
    "    direc = glob(Directory + 'Figures/**/**/**/')\n",
    "    direc = [ x for x in direc if \"Prob\" not in x ]\n",
    "    direc = [ x for x in direc if \"Near\" not in x ]\n",
    "    direc = [ x for x in direc if \"In\" not in x ]\n",
    "    temp = glob(Directory + 'Figures/**/**/**/**/')\n",
    "    if len(direc) == 1:\n",
    "        direc = [direc]\n",
    "    if len(temp) == 1:\n",
    "        temp = [temp]\n",
    "    direc.append(temp)\n",
    "    direc = [item for sublist in direc for item in sublist]\n",
    "    for path in direc:\n",
    "        if 'Frames' in path:\n",
    "            del direc[direc == path]\n",
    "\n",
    "\n",
    "    for path in direc:\n",
    "\n",
    "        cols2show = ['Figure', 'Video', 'EPIC ID', 'Event #', 'Channel', 'Module']\n",
    "\n",
    "        defaultwebpagename = './default/defaultpage_K2BS_events.html'\n",
    "        webpage = webpageclass()\n",
    "        webpage.loaddefaultpage(defaultwebpagename)\n",
    "        webpage.substituteplaceholder('PLACEHOLDER_TITLE_PLACEHOLDER','K2:BS')\n",
    "        webpage.substituteplaceholder('PLACEHOLDER_CAMPAIGN','c'+path.split('c')[1].split('/')[0])\n",
    "                                      \n",
    "        webpage.substituteplaceholder('PLACEHOLDER_BACKTOMAINLINK_PLACEHOLDER',\n",
    "                                      addlink2string('K2:BS Homepage','K2BSHomepage.html'))\n",
    "\n",
    "\n",
    "        infotable = htmltable(10,border=1,cellspacing=0,cellpadding=2,width='200px')\n",
    "\n",
    "        infotable.startrow()\n",
    "        infotable.addcol('Candidates',colspan=1,bold=1, color = 'black', bgcolor = 'grey',fontscale=\"+2\")\n",
    "        infotable.endrow()\n",
    "        infotable.startrow()\n",
    "        for col in cols2show:\n",
    "            infotable.addcol(col,textalign='center',width=None,bold=1, color = 'white', bgcolor = 0.75)\n",
    "        infotable.endrow()\n",
    "\n",
    "        files = glob(path+'/*')\n",
    "        events = []\n",
    "        for file in files:\n",
    "            if '-' in file:\n",
    "                events.append(file.split('-')[-1].split('.')[0])\n",
    "            else:\n",
    "                events.append(file.split('/')[-1].split('.')[0])\n",
    "        events = list(set(events))\n",
    "        # \n",
    "        data = pd.read_csv(Directory + '/Events.csv')\n",
    "        data = data.values\n",
    "\n",
    "        for event in events:\n",
    "            event_pdf = glob(path+'*'+event+'*.pdf')\n",
    "            event_TN = glob(path+'*'+event+'*.png')\n",
    "            event_vid = glob(path+'*'+event+'*.mp4')\n",
    "\n",
    "            filler = '/Users/ryanr/Documents/Photos/gimping/anger.jpg'\n",
    "            if len(event_pdf) == 0:\n",
    "                event_pdf = [filler]\n",
    "            if len(event_TN) == 0:\n",
    "                event_TN = [filler]\n",
    "            if len(event_vid) == 0:\n",
    "                event_vid = [filler]\n",
    "            \n",
    "\n",
    "            row = np.where(data[:,1] == int(event.split('_')[0].split('o')[1]))[0]\n",
    "            if len(row) > 1:\n",
    "                row = row[0]\n",
    "            channel = data[row,11]\n",
    "            if type(channel) == np.ndarray:\n",
    "                channel = channel[0]            \n",
    "            module = data[row,12]\n",
    "            if type(module) == np.ndarray:\n",
    "                module = module[0]\n",
    "                \n",
    "            infotable.startrow()\n",
    "            s = addlink2string(imagestring4web(event_TN[0],width=None,height='150'),event_pdf[0])\n",
    "            infotable.addcol(s)   \n",
    "            s = addlink2string(vidstring4web(event_vid[0],width=None,height='150'),event_vid[0])\n",
    "            infotable.addcol(s)\n",
    "            infotable.addcol(event.split('ktwo')[1].split('_')[0])\n",
    "            infotable.addcol(event.split('_')[1])\n",
    "            infotable.addcol(str(channel))\n",
    "            infotable.addcol(str(module))\n",
    "\n",
    "            infotable.endrow()\n",
    "\n",
    "        webpage.substituteplaceholder('PLACEHOLDER_IMAGETABLE_PLACEHOLDER',infotable.gettable(sortable=True))\n",
    "\n",
    "\n",
    "        today = datetime.now()\n",
    "        update_date = str(today.date())\n",
    "        webpage.substituteplaceholder('PLACEHOLDER_LASTUPDATE_PLACEHOLDER',update_date)\n",
    "\n",
    "        # now save it.\n",
    "        c_split = path.split('c')[1]\n",
    "\n",
    "        if len(c_split.split('/')) > 6: # magic number to seperate single type objects from nested type objects\n",
    "            savename = c_split.split('/')[2] + '_' +c_split.split('/')[3] + '_' +c_split.split('/')[4] + '_' +c_split.split('/')[5] +'.html'\n",
    "        else:\n",
    "            savename = c_split.split('/')[2] + '_' +c_split.split('/')[3] + '_' +c_split.split('/')[4] +'.html'\n",
    "        webpage = Fill_subsection_links(webpage,Location,savename)\n",
    "        \n",
    "        savename = 'c'+path.split('c')[1].split('/')[0]+ '-' + savename\n",
    "        \n",
    "        webpage.substituteplaceholder('PLACEHOLDER_LASTUPDATE_PLACEHOLDER',update_date)\n",
    "        print('### Saving ')\n",
    "        print(Location[-1])\n",
    "        print(savename)\n",
    "        webpage.savepage(Location[-1] + savename)"
   ]
  },
  {
   "cell_type": "code",
   "execution_count": 99,
   "metadata": {},
   "outputs": [
    {
     "name": "stdout",
     "output_type": "stream",
     "text": [
      "### Saving \n",
      "/Users/ryanr/Documents/PhD/coding/Kepler/Webpage/events/\n",
      "c111-Long_Bright_Unknown.html\n",
      "long\n",
      "### Saving \n",
      "/Users/ryanr/Documents/PhD/coding/Kepler/Webpage/events/\n",
      "c111-Long_Bright_In_IrS.html\n",
      "long\n",
      "### Saving \n",
      "/Users/ryanr/Documents/PhD/coding/Kepler/Webpage/events/\n",
      "c111-Long_Bright_Near_Unknown.html\n",
      "long\n",
      "### Saving \n",
      "/Users/ryanr/Documents/PhD/coding/Kepler/Webpage/events/\n",
      "c111-Long_Bright_Prob_IrS.html\n",
      "long\n",
      "### Saving \n",
      "/Users/ryanr/Documents/PhD/coding/Kepler/Webpage/events/\n",
      "c111-Long_Bright_Prob_UvS.html\n"
     ]
    }
   ],
   "source": [
    "Make_candidate_webpage('/Users/ryanr/Desktop/c111/',location)"
   ]
  },
  {
   "cell_type": "code",
   "execution_count": 65,
   "metadata": {},
   "outputs": [],
   "source": [
    "def Fill_subsection_links(Webpage, Location, Savename):\n",
    "    types = Savename.split('_')\n",
    "    \n",
    "    Webpage.substituteplaceholder('PLACEHOLDER_LENGTH',\n",
    "                                  addlink2string(types[0], Location[0] + types[0] + '.html'))\n",
    "    if len(types) > 1:\n",
    "        if len(types) > 3:\n",
    "            Webpage.substituteplaceholder('PLACEHOLDER_BRIGHTNESS',\n",
    "                                      addlink2string(types[1], Location[1] + types[0] + '_' + types[1] + '.html'))\n",
    "            Webpage.substituteplaceholder('PLACEHOLDER_TYPE_ONE',\n",
    "                                      addlink2string(types[2], Location[2] + types[0] + '_' + types[1] + '_' + types[2] + '.html'))\n",
    "            Webpage.substituteplaceholder('PLACEHOLDER_TYPE_TWO',\n",
    "                                      addlink2string(types[3].split('.')[0], Location[3] + Savename))\n",
    "        else:\n",
    "            if len(types) == 3:\n",
    "                Webpage.substituteplaceholder('PLACEHOLDER_BRIGHTNESS',\n",
    "                                      addlink2string(types[1], Location[1] + types[0] + '_' + types[1] + '.html'))\n",
    "                Webpage.substituteplaceholder('PLACEHOLDER_TYPE_ONE',\n",
    "                                          addlink2string(types[2].split('.')[0], Location[2] + Savename))\n",
    "\n",
    "                Webpage.substituteplaceholder('PLACEHOLDER_TYPE_TWO','')\n",
    "            else:\n",
    "                print('vsmall')\n",
    "                Webpage.substituteplaceholder('PLACEHOLDER_BRIGHTNESS',\n",
    "                                      addlink2string(types[1].split('.')[0], Location[1] + types[0] + '_' + types[1]))\n",
    "                Webpage.substituteplaceholder('PLACEHOLDER_TYPE_ONE','')\n",
    "                Webpage.substituteplaceholder('PLACEHOLDER_TYPE_TWO','')\n",
    "    else:\n",
    "        print('xsmall')\n",
    "        Webpage.substituteplaceholder('PLACEHOLDER_BRIGHTNESS','')\n",
    "        Webpage.substituteplaceholder('PLACEHOLDER_TYPE_ONE','')\n",
    "        Webpage.substituteplaceholder('PLACEHOLDER_TYPE_TWO','')\n",
    "        \n",
    "    return Webpage\n",
    "\n",
    "def Reduce_string(string):\n",
    "    \"\"\"\n",
    "    Reduces the size of a html event string by one component.\n",
    "    \"\"\"\n",
    "    temp = string.split('_')\n",
    "    temp2=''\n",
    "    for i in range(len(temp)-1):\n",
    "        if i != (len(temp)-2):\n",
    "            temp2 += temp[i] + '_'\n",
    "        else:\n",
    "            temp2 += temp[i] + '.html'\n",
    "    return temp2"
   ]
  },
  {
   "cell_type": "markdown",
   "metadata": {},
   "source": [
    "Deals to the source types"
   ]
  },
  {
   "cell_type": "code",
   "execution_count": 111,
   "metadata": {},
   "outputs": [],
   "source": [
    "def Create_category_pages(Location):\n",
    "    body_text = [\"Events are 'probably' associated with a \",\n",
    "                 \"Events are 'near' a \",\n",
    "                 \"Events are 'in' a \"]\n",
    "    body_cat = ['Prob','Near','In']\n",
    "\n",
    "    files = glob(Location[-1] + '*.html')\n",
    "\n",
    "    group = []\n",
    "    for file in files:\n",
    "        group.append(file.split('-')[1])\n",
    "    sorte = list(set(group))\n",
    "    stage3 = []\n",
    "    for name in sorte:\n",
    "        if len(name.split('_')) == 4: \n",
    "            defaultwebpagename = './default/defaultpage_K2BS_category.html'\n",
    "            webpage = webpageclass()\n",
    "            webpage.loaddefaultpage(defaultwebpagename)\n",
    "            webpage.substituteplaceholder('PLACEHOLDER_TITLE_PLACEHOLDER','K2:BS')\n",
    "            webpage.substituteplaceholder('PLACEHOLDER_TYPE_PLACEHOLDER', name.split('.')[0].split('_')[-1])\n",
    "\n",
    "            webpage.substituteplaceholder('PLACEHOLDER_BACKTOMAINLINK_PLACEHOLDER',\n",
    "                                          addlink2string('K2:BS Homepage','K2BSHomepage.html'))\n",
    "\n",
    "            infotable = htmltable(10,border=1,cellspacing=0,cellpadding=2,width='200px')\n",
    "\n",
    "            infotable.startrow()\n",
    "            infotable.addcol('Campaigns',colspan=1,bold=1, color = 'black', bgcolor = 'grey',fontscale=\"+2\")\n",
    "            infotable.endrow()\n",
    "            for link in files:\n",
    "                if name in link:\n",
    "                    infotable.startrow()\n",
    "                    infotable.addcol(addlink2string(link.split('-')[0].split('/')[-1],link))   \n",
    "                    infotable.endrow()\n",
    "\n",
    "            webpage.substituteplaceholder('PLACEHOLDER_IMAGETABLE_PLACEHOLDER',infotable.gettable(sortable=True))\n",
    "            temp = 0\n",
    "            for i in range(len(body_cat)):\n",
    "                  if name.split('_')[2] == body_cat[i]:\n",
    "                        temp = i\n",
    "            body = body_text[temp] + name.split('_')[-1].split('.')[0]\n",
    "            webpage.substituteplaceholder('PLACEHOLDER_BODY',body)\n",
    "            webpage = Fill_subsection_links(webpage,Location,Reduce_string(name))\n",
    "            today = datetime.now()\n",
    "            update_date = str(today.date())\n",
    "            webpage.substituteplaceholder('PLACEHOLDER_LASTUPDATE_PLACEHOLDER',update_date)\n",
    "            print('### Saving ')\n",
    "            webpage.savepage(Location[-2] + name)\n",
    "\n",
    "\n",
    "\n",
    "    body_text = [\"Events are 'probably' associated with a mask object\",\n",
    "                 \"Events are 'near' a mask object\",\n",
    "                 \"Events are 'in' a mask object\"]\n",
    "\n",
    "    body_cat = ['Prob','Near','In']\n",
    "\n",
    "    files = glob(Location[-2] + '*.html')\n",
    "    group = []\n",
    "    for file in files:\n",
    "        temp = file.split('/')[-1]\n",
    "        group.append(Reduce_string(temp))\n",
    "    sorte = list(set(group))\n",
    "\n",
    "    for name in sorte:\n",
    "        defaultwebpagename = './default/defaultpage_K2BS_category.html'\n",
    "        webpage = webpageclass()\n",
    "        webpage.loaddefaultpage(defaultwebpagename)\n",
    "        webpage.substituteplaceholder('PLACEHOLDER_TITLE_PLACEHOLDER','K2:BS')\n",
    "        webpage.substituteplaceholder('PLACEHOLDER_TYPE_PLACEHOLDER', name.split('_')[-1].split('.')[0])\n",
    "        webpage.substituteplaceholder('PLACEHOLDER_BACKTOMAINLINK_PLACEHOLDER',\n",
    "                                          addlink2string('K2:BS Homepage','K2BSHomepage.html'))\n",
    "        infotable = htmltable(10,border=1,cellspacing=0,cellpadding=2,width='200px')\n",
    "\n",
    "        infotable.startrow()\n",
    "        infotable.addcol('Object types',colspan=1,bold=1, color = 'black', bgcolor = 'grey',fontscale=\"+2\")\n",
    "        infotable.endrow()\n",
    "\n",
    "        for link in files:\n",
    "            if name.split('.')[0] in link:\n",
    "                infotable.startrow()\n",
    "                infotable.addcol(addlink2string(link.split('_')[-1].split('.')[0],link))\n",
    "                infotable.endrow()\n",
    "\n",
    "        webpage.substituteplaceholder('PLACEHOLDER_IMAGETABLE_PLACEHOLDER',infotable.gettable(sortable=True))\n",
    "        temp = 0\n",
    "        for i in range(len(body_cat)):\n",
    "              if name.split('_')[2].split('.')[0] == body_cat[i]:\n",
    "                    temp = i\n",
    "        webpage.substituteplaceholder('PLACEHOLDER_BODY',body_text[temp])\n",
    "        webpage = Fill_subsection_links(webpage,Location,Reduce_string(name))\n",
    "        today = datetime.now()\n",
    "        update_date = str(today.date())\n",
    "        webpage.substituteplaceholder('PLACEHOLDER_LASTUPDATE_PLACEHOLDER',update_date)\n",
    "        print('### Saving ')\n",
    "        webpage.savepage(Location[-3] + name)\n",
    "\n",
    "\n",
    "    # Now for the non mask stuff\n",
    "    body_text = \"Events are associated with a \"\n",
    "\n",
    "    files = glob(Location[-1] + '*.html')\n",
    "\n",
    "    group = []\n",
    "    for file in files:\n",
    "        group.append(file.split('-')[1])\n",
    "    sorte = list(set(group))\n",
    "    stage3 = []\n",
    "    for name in sorte:\n",
    "        if len(name.split('_')) == 3: \n",
    "            defaultwebpagename = './default/defaultpage_K2BS_category.html'\n",
    "            webpage = webpageclass()\n",
    "            webpage.loaddefaultpage(defaultwebpagename)\n",
    "            webpage.substituteplaceholder('PLACEHOLDER_TITLE_PLACEHOLDER','K2:BS')\n",
    "            webpage.substituteplaceholder('PLACEHOLDER_TYPE_PLACEHOLDER', name.split('_')[-1].split('.')[0])\n",
    "            webpage.substituteplaceholder('PLACEHOLDER_BACKTOMAINLINK_PLACEHOLDER',\n",
    "                                              addlink2string('K2:BS Homepage','K2BSHomepage.html'))\n",
    "            infotable = htmltable(10,border=1,cellspacing=0,cellpadding=2,width='200px')\n",
    "\n",
    "            infotable.startrow()\n",
    "            infotable.addcol('Campaigns',colspan=1,bold=1, color = 'black', bgcolor = 'grey',fontscale=\"+2\")\n",
    "            infotable.endrow()\n",
    "            for link in files:\n",
    "                if name in link:\n",
    "                    infotable.startrow()\n",
    "                    infotable.addcol(addlink2string(link.split('-')[0].split('/')[-1],link))   \n",
    "                    infotable.endrow()\n",
    "\n",
    "            webpage.substituteplaceholder('PLACEHOLDER_IMAGETABLE_PLACEHOLDER',infotable.gettable(sortable=True))\n",
    "\n",
    "            webpage.substituteplaceholder('PLACEHOLDER_BODY',body_text + name.split('_')[-1].split('.')[0])\n",
    "            webpage = Fill_subsection_links(webpage,location,Reduce_string(name))\n",
    "            today = datetime.now()\n",
    "            update_date = str(today.date())\n",
    "            webpage.substituteplaceholder('PLACEHOLDER_LASTUPDATE_PLACEHOLDER',update_date)\n",
    "            print('### Saving ')\n",
    "            webpage.savepage(Location[-3] + name)\n"
   ]
  },
  {
   "cell_type": "code",
   "execution_count": 112,
   "metadata": {},
   "outputs": [
    {
     "name": "stdout",
     "output_type": "stream",
     "text": [
      "### Saving \n",
      "### Saving \n",
      "### Saving \n",
      "### Saving \n",
      "vsmall\n",
      "### Saving \n",
      "vsmall\n",
      "### Saving \n",
      "vsmall\n",
      "### Saving \n",
      "vsmall\n",
      "### Saving \n"
     ]
    }
   ],
   "source": [
    "Create_category_pages(location)"
   ]
  },
  {
   "cell_type": "code",
   "execution_count": 105,
   "metadata": {},
   "outputs": [
    {
     "name": "stdout",
     "output_type": "stream",
     "text": [
      "vsmall\n",
      "### Saving \n",
      "vsmall\n",
      "### Saving \n",
      "vsmall\n",
      "### Saving \n"
     ]
    }
   ],
   "source": []
  },
  {
   "cell_type": "code",
   "execution_count": 11,
   "metadata": {},
   "outputs": [
    {
     "data": {
      "text/plain": [
       "'Long_Bright_Near_Unknown.html'"
      ]
     },
     "execution_count": 11,
     "metadata": {},
     "output_type": "execute_result"
    }
   ],
   "source": [
    "name"
   ]
  },
  {
   "cell_type": "code",
   "execution_count": 26,
   "metadata": {},
   "outputs": [],
   "source": [
    "def Reduce_string(string):\n",
    "    \"\"\"\n",
    "    Reduces the size of a html event string by one component.\n",
    "    \"\"\"\n",
    "    temp = string.split('_')\n",
    "    temp2=''\n",
    "    for i in range(len(temp)-1):\n",
    "        if i != (len(temp)-2):\n",
    "            temp2 += temp[i] + '_'\n",
    "        else:\n",
    "            temp2 += temp[i] + '.html'\n",
    "    return temp2"
   ]
  },
  {
   "cell_type": "code",
   "execution_count": 27,
   "metadata": {},
   "outputs": [
    {
     "data": {
      "text/plain": [
       "'Long_Bright_Near.html'"
      ]
     },
     "execution_count": 27,
     "metadata": {},
     "output_type": "execute_result"
    }
   ],
   "source": [
    "Reduce_string(name)"
   ]
  },
  {
   "cell_type": "code",
   "execution_count": 114,
   "metadata": {},
   "outputs": [
    {
     "data": {
      "text/plain": [
       "['Long_Bright_In_IrS.html',\n",
       " 'Long_Bright_Near_Unknown.html',\n",
       " 'Long_Bright_Prob_IrS.html',\n",
       " 'Long_Bright_Prob_UvS.html',\n",
       " 'Long_Bright_Unknown.html']"
      ]
     },
     "execution_count": 114,
     "metadata": {},
     "output_type": "execute_result"
    }
   ],
   "source": [
    "Length = ['Short','Long']`\n",
    "Bright = ['Faint','Bright']\n",
    "Sub = ['Prob','Near','In']"
   ]
  },
  {
   "cell_type": "code",
   "execution_count": null,
   "metadata": {},
   "outputs": [],
   "source": [
    "for file in files:\n",
    "    for length in Length:\n",
    "        for bright in Bright:\n",
    "            if (length in files) and (bright in file):\n",
    "                "
   ]
  },
  {
   "cell_type": "code",
   "execution_count": null,
   "metadata": {},
   "outputs": [],
   "source": []
  },
  {
   "cell_type": "code",
   "execution_count": null,
   "metadata": {},
   "outputs": [],
   "source": [
    "def Make_connecting_pages(Directory,Save):\n",
    "    files = glob(Directory+'*.html')\n",
    "    "
   ]
  },
  {
   "cell_type": "code",
   "execution_count": 14,
   "metadata": {},
   "outputs": [],
   "source": []
  },
  {
   "cell_type": "code",
   "execution_count": 49,
   "metadata": {},
   "outputs": [
    {
     "ename": "NameError",
     "evalue": "name 'Ncols' is not defined",
     "output_type": "error",
     "traceback": [
      "\u001b[0;31m---------------------------------------------------------------------------\u001b[0m",
      "\u001b[0;31mNameError\u001b[0m                                 Traceback (most recent call last)",
      "\u001b[0;32m<ipython-input-49-114a9557f156>\u001b[0m in \u001b[0;36m<module>\u001b[0;34m()\u001b[0m\n\u001b[1;32m      1\u001b[0m \u001b[0minfotable\u001b[0m\u001b[0;34m.\u001b[0m\u001b[0mstartrow\u001b[0m\u001b[0;34m(\u001b[0m\u001b[0;34m)\u001b[0m\u001b[0;34m\u001b[0m\u001b[0m\n\u001b[0;32m----> 2\u001b[0;31m \u001b[0minfotable\u001b[0m\u001b[0;34m.\u001b[0m\u001b[0maddcol\u001b[0m\u001b[0;34m(\u001b[0m\u001b[0;34m'Candidates'\u001b[0m\u001b[0;34m,\u001b[0m\u001b[0mcolspan\u001b[0m\u001b[0;34m=\u001b[0m\u001b[0mNcols\u001b[0m\u001b[0;34m,\u001b[0m\u001b[0mbold\u001b[0m\u001b[0;34m=\u001b[0m\u001b[0;36m1\u001b[0m\u001b[0;34m,\u001b[0m \u001b[0mcolor\u001b[0m \u001b[0;34m=\u001b[0m \u001b[0;34m'black'\u001b[0m\u001b[0;34m,\u001b[0m \u001b[0mbgcolor\u001b[0m \u001b[0;34m=\u001b[0m \u001b[0;34m'grey'\u001b[0m\u001b[0;34m,\u001b[0m\u001b[0mfontscale\u001b[0m\u001b[0;34m=\u001b[0m\u001b[0;34m\"+2\"\u001b[0m\u001b[0;34m)\u001b[0m\u001b[0;34m\u001b[0m\u001b[0m\n\u001b[0m\u001b[1;32m      3\u001b[0m \u001b[0minfotable\u001b[0m\u001b[0;34m.\u001b[0m\u001b[0mendrow\u001b[0m\u001b[0;34m(\u001b[0m\u001b[0;34m)\u001b[0m\u001b[0;34m\u001b[0m\u001b[0m\n\u001b[1;32m      4\u001b[0m \u001b[0;34m\u001b[0m\u001b[0m\n\u001b[1;32m      5\u001b[0m \u001b[0;31m# make the table header with column names\u001b[0m\u001b[0;34m\u001b[0m\u001b[0;34m\u001b[0m\u001b[0m\n",
      "\u001b[0;31mNameError\u001b[0m: name 'Ncols' is not defined"
     ]
    }
   ],
   "source": [
    "infotable.startrow()\n",
    "infotable.addcol('Candidates',colspan=Ncols,bold=1, color = 'black', bgcolor = 'grey',fontscale=\"+2\")\n",
    "infotable.endrow()\n",
    "\n",
    "# make the table header with column names\n",
    "infotable.startrow()\n",
    "\n",
    "# first set of columns, which is in the array cols2show1\n",
    "for col in cols2show1:\n",
    "    infotable.addcol(col,textalign='center',width=None,bold=1, color = 'white', bgcolor = self.bgcolor4tableheader)\n",
    "\n",
    "for fig2show in figs2show:\n",
    "    infotable.addcol(self.colname(fig2show),textalign='center',width=None,bold=1, color = 'white', bgcolor = self.bgcolor4tableheader,font=self.font,fontscale=self.imagetableheaderfontscale)\n",
    "infotable.endrow()\n",
    "\n",
    "infotable.startrow()    \n",
    "       # add \n",
    "for col in cols2show1:\n",
    "    infotable.addcol(whateverfunction(col))\n",
    "\n",
    "# add the figures\n",
    "for fig2show in figs2show:\n",
    "    figfile = '%s%s.%s.%s' % (self.imagepathprefix,basename,fig2show,self.cfg.getstring(\"webpage\",\"figsuffix\"))\n",
    "    figfileTN = '%s%s.TN.%s.%s' % (self.imagepathprefix,basename,fig2show,self.cfg.getstring(\"webpage\",\"figsuffix\"))\n",
    "    if os.path.isfile(os.path.abspath('%s/%s' % (self.cfg.getstring('webpage','webrootdir'),figfile))):\n",
    "        if self.thumbnails:\n",
    "            s = addlink2string(imagestring4web(figfileTN,width=None,height=p),figfile)\n",
    "        else:\n",
    "            s = addlink2string(self.colname(fig2show),figfile)\n",
    "    else:\n",
    "        s = self.NotAvailable\n",
    "infotable.addcol(s)            \n",
    "infotable.endrow()"
   ]
  },
  {
   "cell_type": "code",
   "execution_count": null,
   "metadata": {},
   "outputs": [],
   "source": []
  },
  {
   "cell_type": "code",
   "execution_count": null,
   "metadata": {},
   "outputs": [],
   "source": []
  },
  {
   "cell_type": "code",
   "execution_count": 37,
   "metadata": {},
   "outputs": [
    {
     "data": {
      "text/plain": [
       "['/Users/ryanr/Desktop/c07/Long/Bright/Unknown/']"
      ]
     },
     "execution_count": 37,
     "metadata": {},
     "output_type": "execute_result"
    }
   ],
   "source": [
    "\n",
    "\n",
    "infotable.startrow()\n",
    "infotable.addcol('Candidates',colspan=Ncols,bold=1, color = 'white', bgcolor = 'blue',font=self.font,fontscale=\"+2\")\n",
    "infotable.endrow()\n",
    "\n",
    "# make the table header with column names\n",
    "infotable.startrow()\n",
    "\n",
    "# first set of columns, which is in the array cols2show1\n",
    "for col in cols2show1:\n",
    "    infotable.addcol(col,textalign='center',width=None,bold=1, color = 'white', bgcolor = self.bgcolor4tableheader,font=self.font,fontscale=self.imagetableheaderfontscale)\n",
    "\n",
    "for fig2show in figs2show:\n",
    "    infotable.addcol(self.colname(fig2show),textalign='center',width=None,bold=1, color = 'white', bgcolor = self.bgcolor4tableheader,font=self.font,fontscale=self.imagetableheaderfontscale)\n",
    "infotable.endrow()\n",
    "\n",
    "infotable.startrow()    \n",
    "       # add \n",
    "for col in cols2show1:\n",
    "    infotable.addcol(whateverfunction(col))\n",
    "\n",
    "# add the figures\n",
    "for fig2show in figs2show:\n",
    "    figfile = '%s%s.%s.%s' % (self.imagepathprefix,basename,fig2show,self.cfg.getstring(\"webpage\",\"figsuffix\"))\n",
    "    figfileTN = '%s%s.TN.%s.%s' % (self.imagepathprefix,basename,fig2show,self.cfg.getstring(\"webpage\",\"figsuffix\"))\n",
    "    if os.path.isfile(os.path.abspath('%s/%s' % (self.cfg.getstring('webpage','webrootdir'),figfile))):\n",
    "        if self.thumbnails:\n",
    "            s = addlink2string(imagestring4web(figfileTN,width=None,height=p),figfile)\n",
    "        else:\n",
    "            s = addlink2string(self.colname(fig2show),figfile)\n",
    "    else:\n",
    "        s = self.NotAvailable\n",
    "infotable.addcol(s)            \n",
    "infotable.endrow()\n",
    "\n",
    "you can then get the full table with infotable.gettable()\n",
    "\n",
    "#2 webpage: here you load a webpage you create before (attached defaultpage_imagelist.html). This webpage has placeholders in it, which you replace with the data you create, e.g. an image table.\n",
    "\n",
    "webpage = webpageclass()\n",
    "webpage.loaddefaultpage(defaultwebpagename)\n",
    "\n",
    "# this is the image table from above\n",
    "infotable = self.mkimagetable(pages.getentry(pagekey,'keys'),p=p,\n",
    "                              cols2show1=self.cfg.getstring(\"webpage\",\"cols2show1\").split(','),\n",
    "                              cols2show2=self.cfg.getstring(\"webpage\",\"cols2show2\").split(','))\n",
    "webpage.substituteplaceholder('PLACEHOLDER_IMAGETABLE_PLACEHOLDER',infotable.gettable(sortable=True))\n",
    "\n",
    "\n",
    "# replace any other placeholder\n",
    "\n",
    "# now save it.\n",
    "webfilename = self.pagename(webbasename,pageID=pages.getentry(pagekey,'pageID'))\n",
    "print '### Saving ',webfilename\n",
    "webpage.savepage(webfilename)\n",
    "del webpage"
   ]
  },
  {
   "cell_type": "code",
   "execution_count": null,
   "metadata": {},
   "outputs": [],
   "source": []
  }
 ],
 "metadata": {
  "anaconda-cloud": {},
  "kernelspec": {
   "display_name": "Python [Root]",
   "language": "python",
   "name": "Python [Root]"
  },
  "language_info": {
   "codemirror_mode": {
    "name": "ipython",
    "version": 3
   },
   "file_extension": ".py",
   "mimetype": "text/x-python",
   "name": "python",
   "nbconvert_exporter": "python",
   "pygments_lexer": "ipython3",
   "version": "3.5.5"
  }
 },
 "nbformat": 4,
 "nbformat_minor": 2
}
