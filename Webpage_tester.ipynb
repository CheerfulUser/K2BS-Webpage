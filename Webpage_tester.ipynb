{
 "cells": [
  {
   "cell_type": "markdown",
   "metadata": {},
   "source": [
    "# Testing the website table generation"
   ]
  },
  {
   "cell_type": "code",
   "execution_count": 1,
   "metadata": {},
   "outputs": [],
   "source": [
    "from glob import glob\n",
    "from webtools import *"
   ]
  },
  {
   "cell_type": "code",
   "execution_count": 3,
   "metadata": {},
   "outputs": [],
   "source": [
    "direc = glob('/Users/ryanr/Desktop/c07/**/**/**/')\n",
    "direc = [ x for x in direc if \"Prob\" not in x ]\n",
    "direc = [ x for x in direc if \"Near\" not in x ]\n",
    "temp = glob('/Users/ryanr/Desktop/c07/**/**/**/**/')\n",
    "if len(direc) == 1:\n",
    "    direc = [direc]\n",
    "if len(temp) == 1:\n",
    "    temp = [temp]\n",
    "direc.append(temp)\n",
    "direc = [item for sublist in direc for item in sublist]"
   ]
  },
  {
   "cell_type": "code",
   "execution_count": null,
   "metadata": {},
   "outputs": [],
   "source": []
  },
  {
   "cell_type": "code",
   "execution_count": 82,
   "metadata": {},
   "outputs": [],
   "source": [
    "if 1 is int:\n",
    "    print(beep)"
   ]
  },
  {
   "cell_type": "code",
   "execution_count": 68,
   "metadata": {},
   "outputs": [
    {
     "data": {
      "text/plain": [
       "['/Users/ryanr/Desktop/c07/Long/Bright/Unknown/',\n",
       " '/Users/ryanr/Desktop/c07/Long/Bright/Near/IrS/',\n",
       " '/Users/ryanr/Desktop/c07/Long/Bright/Near/Simbad/',\n",
       " '/Users/ryanr/Desktop/c07/Long/Bright/Near/Unknown/',\n",
       " '/Users/ryanr/Desktop/c07/Long/Bright/Near/UvS/',\n",
       " '/Users/ryanr/Desktop/c07/Long/Faint/Near/Simbad/',\n",
       " '/Users/ryanr/Desktop/c07/Long/Faint/Near/Unknown/',\n",
       " '/Users/ryanr/Desktop/c07/Long/Faint/Near/UvS/',\n",
       " '/Users/ryanr/Desktop/c07/Long/Faint/Prob/IrS/',\n",
       " '/Users/ryanr/Desktop/c07/Long/Faint/Prob/Simbad/',\n",
       " '/Users/ryanr/Desktop/c07/Long/Faint/Prob/Unknown/',\n",
       " '/Users/ryanr/Desktop/c07/Long/Faint/Prob/UvS/']"
      ]
     },
     "execution_count": 68,
     "metadata": {},
     "output_type": "execute_result"
    }
   ],
   "source": [
    "for i in range(len(direc)):\n",
    "    "
   ]
  },
  {
   "cell_type": "markdown",
   "metadata": {},
   "source": [
    "Base working design"
   ]
  },
  {
   "cell_type": "code",
   "execution_count": 8,
   "metadata": {},
   "outputs": [
    {
     "name": "stdout",
     "output_type": "stream",
     "text": [
      "### Saving \n"
     ]
    }
   ],
   "source": [
    "infotable = htmltable(10,border=1,cellspacing=0,cellpadding=2,width='100px')\n",
    "cols2show = ['Figure', 'Video', 'EPIC ID', 'Event #', 'Module']\n",
    "\n",
    "defaultwebpagename = 'defaultpage_imagelist.html'\n",
    "webpage = webpageclass()\n",
    "webpage.loaddefaultpage(defaultwebpagename)\n",
    "infotable = htmltable(10,border=1,cellspacing=0,cellpadding=2,width='200px')\n",
    "\n",
    "infotable.startrow()\n",
    "infotable.addcol('Candidates',colspan=1,bold=1, color = 'black', bgcolor = 'grey',fontscale=\"+2\")\n",
    "infotable.endrow()\n",
    "infotable.startrow()\n",
    "for col in cols2show:\n",
    "    infotable.addcol(col,textalign='center',width=None,bold=1, color = 'white', bgcolor = 0.75)\n",
    "infotable.endrow()\n",
    "\n",
    "infotable.startrow()\n",
    "thumbnail = '/Users/ryanr/Documents/PhD/coding/Kepler/pipelines/203830112/thumbnail.png'\n",
    "realfig = '/Users/ryanr/Documents/PhD/coding/Kepler/pipelines/203830112/WZ_Sge_D_type.png'\n",
    "\n",
    "s = addlink2string(imagestring4web(thumbnail,width=None,height='100'),realfig)\n",
    "infotable.addcol(s)   \n",
    "test = '/Users/ryanr/Desktop/test2.gif'#'/Users/ryanr/Documents/PhD/coding/Kepler/K2/Figures/Long/Bright/Unknown/ktwo203830112_0.gif'#anaconda3/envs/py27/lib/python2.7/site-packages/imageio/resources/images/newtonscradle.gif'\n",
    "s = addlink2string(imagestring4web(test,width=None,height='100'),'/Users/ryanr/Desktop/ktwo200001049_7.mp4')\n",
    "infotable.addcol(s)\n",
    "infotable.addcol('203830112')\n",
    "infotable.addcol('1')\n",
    "\n",
    "infotable.endrow()\n",
    "\n",
    "\n",
    "webpage.substituteplaceholder('PLACEHOLDER_IMAGETABLE_PLACEHOLDER',infotable.gettable(sortable=True))\n",
    "webpage.substituteplaceholder('PLACEHOLDER_TITLE_PLACEHOLDER','K2:BS')\n",
    "  \n",
    "\n",
    "# replace any other placeholder\n",
    "\n",
    "# now save it.\n",
    "#webfilename = self.pagename(webbasename,pageID=pages.getentry(1,'pageID'))\n",
    "print('### Saving ')\n",
    "webpage.savepage('/Users/ryanr/Documents/PhD/coding/Kepler/Webpage/test.html')\n",
    "#del webpage"
   ]
  },
  {
   "cell_type": "markdown",
   "metadata": {},
   "source": [
    "loping"
   ]
  },
  {
   "cell_type": "code",
   "execution_count": 4,
   "metadata": {},
   "outputs": [],
   "source": []
  },
  {
   "cell_type": "code",
   "execution_count": 12,
   "metadata": {},
   "outputs": [],
   "source": [
    "today = datetime.now()\n",
    "update_date = str(today.date())"
   ]
  },
  {
   "cell_type": "code",
   "execution_count": 13,
   "metadata": {},
   "outputs": [
    {
     "data": {
      "text/plain": [
       "'2018-08-15'"
      ]
     },
     "execution_count": 13,
     "metadata": {},
     "output_type": "execute_result"
    }
   ],
   "source": [
    "update_date"
   ]
  },
  {
   "cell_type": "code",
   "execution_count": 5,
   "metadata": {},
   "outputs": [],
   "source": [
    "from glob import glob\n",
    "from webtools import *\n",
    "from datetime import datetime"
   ]
  },
  {
   "cell_type": "code",
   "execution_count": 32,
   "metadata": {},
   "outputs": [],
   "source": [
    "direc = glob('/Users/ryanr/Desktop/c111/**/**/') # removed one directory layer for this test\n",
    "direc = [ x for x in direc if \"Prob\" not in x ]\n",
    "direc = [ x for x in direc if \"Near\" not in x ]\n",
    "direc = [ x for x in direc if \"In\" not in x ]\n",
    "temp = glob('/Users/ryanr/Desktop/c111/**/**/**/') # removed one directory layer for this test\n",
    "if len(direc) == 1:\n",
    "    direc = [direc]\n",
    "if len(temp) == 1:\n",
    "    temp = [temp]\n",
    "direc.append(temp)\n",
    "direc = [item for sublist in direc for item in sublist]"
   ]
  },
  {
   "cell_type": "code",
   "execution_count": 33,
   "metadata": {},
   "outputs": [
    {
     "data": {
      "text/plain": [
       "['/Users/ryanr/Desktop/c111/Long/Bright/',\n",
       " '/Users/ryanr/Desktop/c111/Long/Bright/In/',\n",
       " '/Users/ryanr/Desktop/c111/Long/Bright/Near/',\n",
       " '/Users/ryanr/Desktop/c111/Long/Bright/Prob/',\n",
       " '/Users/ryanr/Desktop/c111/Long/Bright/Unknown/']"
      ]
     },
     "execution_count": 33,
     "metadata": {},
     "output_type": "execute_result"
    }
   ],
   "source": [
    "direc.dele"
   ]
  },
  {
   "cell_type": "code",
   "execution_count": 8,
   "metadata": {},
   "outputs": [],
   "source": [
    "files = glob(direc[1]+'/*')"
   ]
  },
  {
   "cell_type": "code",
   "execution_count": 9,
   "metadata": {},
   "outputs": [],
   "source": [
    "events = []\n",
    "for file in files:\n",
    "    if '-' in file:\n",
    "        events.append(file.split('-')[-1].split('.')[0])\n",
    "    else:\n",
    "        events.append(file.split('/')[-1].split('.')[0])\n",
    "events = list(set(events))\n",
    "\n",
    "for event in events:\n",
    "    event_pdf = glob(direc[1]+'/*'+event+'*.pdf')\n",
    "    event_TN = glob(direc[1]+'/*'+event+'*.png')\n",
    "    event_vid = glob(direc[1]+'/*'+event+'*.mp4')\n",
    "    event_test =glob(direc[1]+'/*'+event+'*.mpp')"
   ]
  },
  {
   "cell_type": "code",
   "execution_count": 10,
   "metadata": {},
   "outputs": [
    {
     "data": {
      "text/plain": [
       "'/Users/ryanr/Desktop/c111/Bright/In/IrS/*ktwo200127408_0.png'"
      ]
     },
     "execution_count": 10,
     "metadata": {},
     "output_type": "execute_result"
    }
   ],
   "source": [
    "direc[1]+'*'+event+'.png'"
   ]
  },
  {
   "cell_type": "code",
   "execution_count": 11,
   "metadata": {},
   "outputs": [
    {
     "data": {
      "text/plain": [
       "['/Users/ryanr/Desktop/c111/Bright/In/IrS/TN-ktwo200127408_0.png']"
      ]
     },
     "execution_count": 11,
     "metadata": {},
     "output_type": "execute_result"
    }
   ],
   "source": [
    "glob(direc[1]+'*'+event+'.png')"
   ]
  },
  {
   "cell_type": "code",
   "execution_count": 52,
   "metadata": {},
   "outputs": [
    {
     "data": {
      "text/plain": [
       "['ktwo223430002_0', 'ktwo223430002_0', 'ktwo223430002_0', 'ktwo223430002_0']"
      ]
     },
     "execution_count": 52,
     "metadata": {},
     "output_type": "execute_result"
    }
   ],
   "source": [
    "events"
   ]
  },
  {
   "cell_type": "code",
   "execution_count": 53,
   "metadata": {},
   "outputs": [
    {
     "data": {
      "text/plain": [
       "['ktwo223430002_0']"
      ]
     },
     "execution_count": 53,
     "metadata": {},
     "output_type": "execute_result"
    }
   ],
   "source": [
    "my_list = list(set(events))\n",
    "my_list"
   ]
  },
  {
   "cell_type": "code",
   "execution_count": 23,
   "metadata": {},
   "outputs": [
    {
     "name": "stdout",
     "output_type": "stream",
     "text": [
      "111/Bright/Prob/UvS/\n"
     ]
    }
   ],
   "source": [
    "c_split = path.split('c')[1]\n",
    "\n",
    "if len(c_split.split('/')) > 4:\n",
    "    savename = c_split.split('/')[1] + '_' +c_split.split('/')[2] + '_' +c_split.split('/')[3] +'.html'\n",
    "else:\n",
    "    savename = c_split.split('/')[1] + '_' +c_split.split('/')[2] +'.html'"
   ]
  },
  {
   "cell_type": "code",
   "execution_count": 24,
   "metadata": {},
   "outputs": [
    {
     "data": {
      "text/plain": [
       "'Bright_Prob_UvS.html'"
      ]
     },
     "execution_count": 24,
     "metadata": {},
     "output_type": "execute_result"
    }
   ],
   "source": [
    "savename"
   ]
  },
  {
   "cell_type": "code",
   "execution_count": 18,
   "metadata": {},
   "outputs": [
    {
     "data": {
      "text/plain": [
       "['/Users/ryanr/Desktop/', '111/Bright/Prob/UvS/']"
      ]
     },
     "execution_count": 18,
     "metadata": {},
     "output_type": "execute_result"
    }
   ],
   "source": [
    "dirs"
   ]
  },
  {
   "cell_type": "markdown",
   "metadata": {},
   "source": [
    "Working loop page"
   ]
  },
  {
   "cell_type": "code",
   "execution_count": 34,
   "metadata": {},
   "outputs": [],
   "source": [
    "def Make_candidate_webpage(Directory,Save):\n",
    "    \"\"\"\n",
    "    Gather all like events in a campaign and make a webpage.\n",
    "    \"\"\"\n",
    "\n",
    "    direc = glob(Directory + 'Figures/**/**/**/')\n",
    "    direc = [ x for x in direc if \"Prob\" not in x ]\n",
    "    direc = [ x for x in direc if \"Near\" not in x ]\n",
    "    direc = [ x for x in direc if \"In\" not in x ]\n",
    "    temp = glob('/Users/ryanr/Desktop/c111/**/**/**/**/')\n",
    "    if len(direc) == 1:\n",
    "        direc = [direc]\n",
    "    if len(temp) == 1:\n",
    "        temp = [temp]\n",
    "    direc.append(temp)\n",
    "    direc = [item for sublist in direc for item in sublist]\n",
    "    for path in direc:\n",
    "        if 'Frames' in path:\n",
    "            del direc[direc == path]\n",
    "\n",
    "\n",
    "    for path in direc:\n",
    "\n",
    "        cols2show = ['Figure', 'Video', 'EPIC ID', 'Event #', 'Module']\n",
    "\n",
    "        defaultwebpagename = 'defaultpage_K2BS_events.html'\n",
    "        webpage = webpageclass()\n",
    "        webpage.loaddefaultpage(defaultwebpagename)\n",
    "        webpage.substituteplaceholder('PLACEHOLDER_TITLE_PLACEHOLDER','K2:BS')\n",
    "        webpage.substituteplaceholder('PLACEHOLDER_CAMPAIGN','c111')\n",
    "\n",
    "\n",
    "\n",
    "        infotable = htmltable(10,border=1,cellspacing=0,cellpadding=2,width='200px')\n",
    "\n",
    "        infotable.startrow()\n",
    "        infotable.addcol('Candidates',colspan=1,bold=1, color = 'black', bgcolor = 'grey',fontscale=\"+2\")\n",
    "        infotable.endrow()\n",
    "        infotable.startrow()\n",
    "        for col in cols2show:\n",
    "            infotable.addcol(col,textalign='center',width=None,bold=1, color = 'white', bgcolor = 0.75)\n",
    "        infotable.endrow()\n",
    "\n",
    "        files = glob(path+'/*')\n",
    "        events = []\n",
    "        for file in files:\n",
    "            if '-' in file:\n",
    "                events.append(file.split('-')[-1].split('.')[0])\n",
    "            else:\n",
    "                events.append(file.split('/')[-1].split('.')[0])\n",
    "        events = list(set(events))\n",
    "\n",
    "        for event in events:\n",
    "            event_pdf = glob(path+'*'+event+'*.pdf')\n",
    "            event_TN = glob(path+'*'+event+'*.png')\n",
    "            event_vid = glob(path+'*'+event+'*.mp4')\n",
    "            print(event_TN)\n",
    "            filler = '/Users/ryanr/Documents/Photos/gimping/anger.jpg'\n",
    "            if len(event_pdf) == 0:\n",
    "                event_pdf = [filler]\n",
    "            if len(event_TN) == 0:\n",
    "                event_TN = [filler]\n",
    "            if len(event_vid) == 0:\n",
    "                event_vid = [filler]\n",
    "\n",
    "            infotable.startrow()\n",
    "            s = addlink2string(imagestring4web(event_TN[0],width=None,height='150'),event_pdf[0])\n",
    "            infotable.addcol(s)   \n",
    "            s = addlink2string(vidstring4web(event_vid[0],width=None,height='150'),event_vid[0])\n",
    "            infotable.addcol(s)\n",
    "            infotable.addcol(event.split('ktwo')[1].split('_')[0])\n",
    "            infotable.addcol(event.split('_')[1])\n",
    "\n",
    "            infotable.endrow()\n",
    "\n",
    "        webpage.substituteplaceholder('PLACEHOLDER_IMAGETABLE_PLACEHOLDER',infotable.gettable(sortable=True))\n",
    "\n",
    "\n",
    "        today = datetime.now()\n",
    "        update_date = str(today.date())\n",
    "        webpage.substituteplaceholder('PLACEHOLDER_LASTUPDATE_PLACEHOLDER',update_date)\n",
    "\n",
    "        # now save it.\n",
    "        c_split = path.split('c')[1]\n",
    "\n",
    "        if len(c_split.split('/')) > 5:\n",
    "            savename = c_split.split('/')[1] + '_' +c_split.split('/')[2] + '_' +c_split.split('/')[3] + '_' +c_split.split('/')[4] +'.html'\n",
    "        else:\n",
    "            savename = c_split.split('/')[1] + '_' +c_split.split('/')[2] + '_' +c_split.split('/')[3] +'.html'\n",
    "        savename = 'c'+path.split('c')[1].spit('/')[0] + savename\n",
    "        \n",
    "        webpage.substituteplaceholder('PLACEHOLDER_LASTUPDATE_PLACEHOLDER',update_date)\n",
    "        print('### Saving ')\n",
    "        webpage.savepage(Save + savename)"
   ]
  },
  {
   "cell_type": "markdown",
   "metadata": {},
   "source": [
    "Want a scalled webpages."
   ]
  },
  {
   "cell_type": "code",
   "execution_count": null,
   "metadata": {},
   "outputs": [],
   "source": []
  },
  {
   "cell_type": "code",
   "execution_count": null,
   "metadata": {},
   "outputs": [],
   "source": []
  },
  {
   "cell_type": "code",
   "execution_count": 49,
   "metadata": {},
   "outputs": [
    {
     "ename": "NameError",
     "evalue": "name 'Ncols' is not defined",
     "output_type": "error",
     "traceback": [
      "\u001b[0;31m---------------------------------------------------------------------------\u001b[0m",
      "\u001b[0;31mNameError\u001b[0m                                 Traceback (most recent call last)",
      "\u001b[0;32m<ipython-input-49-114a9557f156>\u001b[0m in \u001b[0;36m<module>\u001b[0;34m()\u001b[0m\n\u001b[1;32m      1\u001b[0m \u001b[0minfotable\u001b[0m\u001b[0;34m.\u001b[0m\u001b[0mstartrow\u001b[0m\u001b[0;34m(\u001b[0m\u001b[0;34m)\u001b[0m\u001b[0;34m\u001b[0m\u001b[0m\n\u001b[0;32m----> 2\u001b[0;31m \u001b[0minfotable\u001b[0m\u001b[0;34m.\u001b[0m\u001b[0maddcol\u001b[0m\u001b[0;34m(\u001b[0m\u001b[0;34m'Candidates'\u001b[0m\u001b[0;34m,\u001b[0m\u001b[0mcolspan\u001b[0m\u001b[0;34m=\u001b[0m\u001b[0mNcols\u001b[0m\u001b[0;34m,\u001b[0m\u001b[0mbold\u001b[0m\u001b[0;34m=\u001b[0m\u001b[0;36m1\u001b[0m\u001b[0;34m,\u001b[0m \u001b[0mcolor\u001b[0m \u001b[0;34m=\u001b[0m \u001b[0;34m'black'\u001b[0m\u001b[0;34m,\u001b[0m \u001b[0mbgcolor\u001b[0m \u001b[0;34m=\u001b[0m \u001b[0;34m'grey'\u001b[0m\u001b[0;34m,\u001b[0m\u001b[0mfontscale\u001b[0m\u001b[0;34m=\u001b[0m\u001b[0;34m\"+2\"\u001b[0m\u001b[0;34m)\u001b[0m\u001b[0;34m\u001b[0m\u001b[0m\n\u001b[0m\u001b[1;32m      3\u001b[0m \u001b[0minfotable\u001b[0m\u001b[0;34m.\u001b[0m\u001b[0mendrow\u001b[0m\u001b[0;34m(\u001b[0m\u001b[0;34m)\u001b[0m\u001b[0;34m\u001b[0m\u001b[0m\n\u001b[1;32m      4\u001b[0m \u001b[0;34m\u001b[0m\u001b[0m\n\u001b[1;32m      5\u001b[0m \u001b[0;31m# make the table header with column names\u001b[0m\u001b[0;34m\u001b[0m\u001b[0;34m\u001b[0m\u001b[0m\n",
      "\u001b[0;31mNameError\u001b[0m: name 'Ncols' is not defined"
     ]
    }
   ],
   "source": [
    "infotable.startrow()\n",
    "infotable.addcol('Candidates',colspan=Ncols,bold=1, color = 'black', bgcolor = 'grey',fontscale=\"+2\")\n",
    "infotable.endrow()\n",
    "\n",
    "# make the table header with column names\n",
    "infotable.startrow()\n",
    "\n",
    "# first set of columns, which is in the array cols2show1\n",
    "for col in cols2show1:\n",
    "    infotable.addcol(col,textalign='center',width=None,bold=1, color = 'white', bgcolor = self.bgcolor4tableheader)\n",
    "\n",
    "for fig2show in figs2show:\n",
    "    infotable.addcol(self.colname(fig2show),textalign='center',width=None,bold=1, color = 'white', bgcolor = self.bgcolor4tableheader,font=self.font,fontscale=self.imagetableheaderfontscale)\n",
    "infotable.endrow()\n",
    "\n",
    "infotable.startrow()    \n",
    "       # add \n",
    "for col in cols2show1:\n",
    "    infotable.addcol(whateverfunction(col))\n",
    "\n",
    "# add the figures\n",
    "for fig2show in figs2show:\n",
    "    figfile = '%s%s.%s.%s' % (self.imagepathprefix,basename,fig2show,self.cfg.getstring(\"webpage\",\"figsuffix\"))\n",
    "    figfileTN = '%s%s.TN.%s.%s' % (self.imagepathprefix,basename,fig2show,self.cfg.getstring(\"webpage\",\"figsuffix\"))\n",
    "    if os.path.isfile(os.path.abspath('%s/%s' % (self.cfg.getstring('webpage','webrootdir'),figfile))):\n",
    "        if self.thumbnails:\n",
    "            s = addlink2string(imagestring4web(figfileTN,width=None,height=p),figfile)\n",
    "        else:\n",
    "            s = addlink2string(self.colname(fig2show),figfile)\n",
    "    else:\n",
    "        s = self.NotAvailable\n",
    "infotable.addcol(s)            \n",
    "infotable.endrow()"
   ]
  },
  {
   "cell_type": "code",
   "execution_count": null,
   "metadata": {},
   "outputs": [],
   "source": []
  },
  {
   "cell_type": "code",
   "execution_count": null,
   "metadata": {},
   "outputs": [],
   "source": []
  },
  {
   "cell_type": "code",
   "execution_count": 37,
   "metadata": {},
   "outputs": [
    {
     "data": {
      "text/plain": [
       "['/Users/ryanr/Desktop/c07/Long/Bright/Unknown/']"
      ]
     },
     "execution_count": 37,
     "metadata": {},
     "output_type": "execute_result"
    }
   ],
   "source": [
    "\n",
    "\n",
    "infotable.startrow()\n",
    "infotable.addcol('Candidates',colspan=Ncols,bold=1, color = 'white', bgcolor = 'blue',font=self.font,fontscale=\"+2\")\n",
    "infotable.endrow()\n",
    "\n",
    "# make the table header with column names\n",
    "infotable.startrow()\n",
    "\n",
    "# first set of columns, which is in the array cols2show1\n",
    "for col in cols2show1:\n",
    "    infotable.addcol(col,textalign='center',width=None,bold=1, color = 'white', bgcolor = self.bgcolor4tableheader,font=self.font,fontscale=self.imagetableheaderfontscale)\n",
    "\n",
    "for fig2show in figs2show:\n",
    "    infotable.addcol(self.colname(fig2show),textalign='center',width=None,bold=1, color = 'white', bgcolor = self.bgcolor4tableheader,font=self.font,fontscale=self.imagetableheaderfontscale)\n",
    "infotable.endrow()\n",
    "\n",
    "infotable.startrow()    \n",
    "       # add \n",
    "for col in cols2show1:\n",
    "    infotable.addcol(whateverfunction(col))\n",
    "\n",
    "# add the figures\n",
    "for fig2show in figs2show:\n",
    "    figfile = '%s%s.%s.%s' % (self.imagepathprefix,basename,fig2show,self.cfg.getstring(\"webpage\",\"figsuffix\"))\n",
    "    figfileTN = '%s%s.TN.%s.%s' % (self.imagepathprefix,basename,fig2show,self.cfg.getstring(\"webpage\",\"figsuffix\"))\n",
    "    if os.path.isfile(os.path.abspath('%s/%s' % (self.cfg.getstring('webpage','webrootdir'),figfile))):\n",
    "        if self.thumbnails:\n",
    "            s = addlink2string(imagestring4web(figfileTN,width=None,height=p),figfile)\n",
    "        else:\n",
    "            s = addlink2string(self.colname(fig2show),figfile)\n",
    "    else:\n",
    "        s = self.NotAvailable\n",
    "infotable.addcol(s)            \n",
    "infotable.endrow()\n",
    "\n",
    "you can then get the full table with infotable.gettable()\n",
    "\n",
    "#2 webpage: here you load a webpage you create before (attached defaultpage_imagelist.html). This webpage has placeholders in it, which you replace with the data you create, e.g. an image table.\n",
    "\n",
    "webpage = webpageclass()\n",
    "webpage.loaddefaultpage(defaultwebpagename)\n",
    "\n",
    "# this is the image table from above\n",
    "infotable = self.mkimagetable(pages.getentry(pagekey,'keys'),p=p,\n",
    "                              cols2show1=self.cfg.getstring(\"webpage\",\"cols2show1\").split(','),\n",
    "                              cols2show2=self.cfg.getstring(\"webpage\",\"cols2show2\").split(','))\n",
    "webpage.substituteplaceholder('PLACEHOLDER_IMAGETABLE_PLACEHOLDER',infotable.gettable(sortable=True))\n",
    "\n",
    "\n",
    "# replace any other placeholder\n",
    "\n",
    "# now save it.\n",
    "webfilename = self.pagename(webbasename,pageID=pages.getentry(pagekey,'pageID'))\n",
    "print '### Saving ',webfilename\n",
    "webpage.savepage(webfilename)\n",
    "del webpage"
   ]
  },
  {
   "cell_type": "code",
   "execution_count": null,
   "metadata": {},
   "outputs": [],
   "source": []
  }
 ],
 "metadata": {
  "anaconda-cloud": {},
  "kernelspec": {
   "display_name": "Python [Root]",
   "language": "python",
   "name": "Python [Root]"
  },
  "language_info": {
   "codemirror_mode": {
    "name": "ipython",
    "version": 3
   },
   "file_extension": ".py",
   "mimetype": "text/x-python",
   "name": "python",
   "nbconvert_exporter": "python",
   "pygments_lexer": "ipython3",
   "version": "3.5.5"
  }
 },
 "nbformat": 4,
 "nbformat_minor": 2
}
